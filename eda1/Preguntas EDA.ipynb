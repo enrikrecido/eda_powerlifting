{
 "cells": [
  {
   "cell_type": "markdown",
   "metadata": {},
   "source": [
    "# EDA"
   ]
  },
  {
   "cell_type": "markdown",
   "metadata": {},
   "source": [
    "### Base de datos de powerlifting"
   ]
  },
  {
   "cell_type": "code",
   "execution_count": 6,
   "metadata": {},
   "outputs": [],
   "source": [
    "\n",
    "import numpy as np\n",
    "import pandas as pd"
   ]
  },
  {
   "cell_type": "code",
   "execution_count": 13,
   "metadata": {},
   "outputs": [],
   "source": [
    "df_power = pd.read_csv(\"openpowerlifting.csv\")\n"
   ]
  },
  {
   "cell_type": "code",
   "execution_count": 14,
   "metadata": {},
   "outputs": [],
   "source": [
    "df_power.sample(int(len(df_power)*0.1)).to_csv(\"openpowerlifting.csv\", index = False)"
   ]
  },
  {
   "cell_type": "markdown",
   "metadata": {},
   "source": [
    "#### Es una base de datos muy extensa, por lo que me voy a centrar en:\n",
    "\n",
    "-Mejor puntuación en wilks\n",
    "\n",
    "-Mejores marcas en sentadilla, peso muerto y pres de banca\n",
    "\n",
    "-Hay una mejora en marcas a lo largo de los años? A medida que pasan los años, los jóvenes destacan más con sus marcas?\n",
    "\n",
    "-Es relevante la edad del sujeto en cada categoría? ?\n",
    "\n",
    "-En relación peso corporal, hay mucha diferencia entre marcas de una categoría a otra? Es decir, cuantas veces levanta su propio peso. \n",
    "\n",
    "\n"
   ]
  },
  {
   "cell_type": "markdown",
   "metadata": {},
   "source": []
  }
 ],
 "metadata": {
  "kernelspec": {
   "display_name": "Python 3",
   "language": "python",
   "name": "python3"
  },
  "language_info": {
   "codemirror_mode": {
    "name": "ipython",
    "version": 3
   },
   "file_extension": ".py",
   "mimetype": "text/x-python",
   "name": "python",
   "nbconvert_exporter": "python",
   "pygments_lexer": "ipython3",
   "version": "3.10.11"
  }
 },
 "nbformat": 4,
 "nbformat_minor": 2
}
